{
  "nbformat": 4,
  "nbformat_minor": 0,
  "metadata": {
    "colab": {
      "name": "nlp_multi_label_bert.ipynb",
      "provenance": [],
      "collapsed_sections": [],
      "authorship_tag": "ABX9TyNmAEFbGKQp94cl8pb7G8y3",
      "include_colab_link": true
    },
    "kernelspec": {
      "name": "python3",
      "display_name": "Python 3"
    },
    "accelerator": "GPU"
  },
  "cells": [
    {
      "cell_type": "markdown",
      "metadata": {
        "id": "view-in-github",
        "colab_type": "text"
      },
      "source": [
        "<a href=\"https://colab.research.google.com/github/BrooklynZhang/Personal/blob/master/nlp_multi_label_bert.ipynb\" target=\"_parent\"><img src=\"https://colab.research.google.com/assets/colab-badge.svg\" alt=\"Open In Colab\"/></a>"
      ]
    },
    {
      "cell_type": "code",
      "metadata": {
        "id": "7IvPQzhY6KwZ",
        "colab_type": "code",
        "colab": {}
      },
      "source": [
        "!pip install fast-bert\n",
        "\n",
        "!git clone https://github.com/NVIDIA/apex\n",
        "%cd apex\n",
        "!pip install -v --no-cache-dir --global-option=\"--cpp_ext\" --global-option=\"--cuda_ext\" ./"
      ],
      "execution_count": 0,
      "outputs": []
    },
    {
      "cell_type": "code",
      "metadata": {
        "id": "VoH7MrAe776E",
        "colab_type": "code",
        "outputId": "393f069f-059e-4534-fb7f-5bbf96f83292",
        "colab": {
          "base_uri": "https://localhost:8080/",
          "height": 138
        }
      },
      "source": [
        "!git clone https://github.com/BrooklynZhang/Personal.git"
      ],
      "execution_count": 2,
      "outputs": [
        {
          "output_type": "stream",
          "text": [
            "Cloning into 'Personal'...\n",
            "remote: Enumerating objects: 252, done.\u001b[K\n",
            "remote: Counting objects: 100% (252/252), done.\u001b[K\n",
            "remote: Compressing objects: 100% (223/223), done.\u001b[K\n",
            "remote: Total 252 (delta 36), reused 228 (delta 15), pack-reused 0\u001b[K\n",
            "Receiving objects: 100% (252/252), 2.88 MiB | 5.59 MiB/s, done.\n",
            "Resolving deltas: 100% (36/36), done.\n"
          ],
          "name": "stdout"
        }
      ]
    },
    {
      "cell_type": "code",
      "metadata": {
        "id": "IxeH_t4vPCMI",
        "colab_type": "code",
        "colab": {}
      },
      "source": [
        "import logging\n",
        "import torch\n",
        "import os\n",
        "import argparse\n",
        "from fast_bert.data_cls import BertDataBunch\n",
        "from fast_bert.learner_cls import BertLearner\n",
        "from fast_bert.metrics import accuracy\n",
        "\n",
        "\n",
        "PATH = 'Personal/NLP_Data/'\n",
        "OUTPUT = \"/content/\"\n",
        "\n",
        "BERT_PRETRAINED_MODEL = \"bert-base-uncased\"\n",
        "\n",
        "\n",
        "logger = logging.getLogger()\n",
        "labels = [\"anger\", \"anticipation\",\"disgust\",\"fear\",\"joy\",\"love\",\"optimism\",\"pessimism\",\"sadness\",\"surprise\",\"trust\",\"neutral\"]\n",
        "databunch = BertDataBunch(PATH, \n",
        "                          PATH,\n",
        "                          tokenizer=BERT_PRETRAINED_MODEL,\n",
        "                          train_file='train.csv',\n",
        "                          label_file='labels.csv',\n",
        "                          val_file=\"valid.csv\",\n",
        "                          text_col='text',\n",
        "                          label_col=labels,\n",
        "                          batch_size_per_gpu=10,\n",
        "                          max_seq_length=512,\n",
        "                          multi_gpu=False,\n",
        "                          multi_label=True,\n",
        "                          model_type='bert')\n",
        "\n",
        "device_cuda = torch.device(\"cuda\")\n",
        "metrics = [{'name': 'accuracy', 'function': accuracy}]\n",
        "\n",
        "learner = BertLearner.from_pretrained_model(databunch,\n",
        "                                            pretrained_path=BERT_PRETRAINED_MODEL,\n",
        "                                            metrics=metrics,\n",
        "                                            device=device_cuda,\n",
        "                                            logger=logger,\n",
        "                                            output_dir=OUTPUT,\n",
        "                                            finetuned_wgts_path=None,\n",
        "                                            warmup_steps=200,\n",
        "                                            multi_gpu=False,\n",
        "                                            is_fp16=False,\n",
        "                                            multi_label=True,\n",
        "                                            logging_steps=10)\n",
        "\n",
        "learner.fit(epochs=4,\n",
        "            lr=2e-3,\n",
        "            schedule_type=\"warmup_cosine_hard_restarts\",\n",
        "            optimizer_type=\"lamb\")\n",
        "\n",
        "learner.save_model()"
      ],
      "execution_count": 0,
      "outputs": []
    }
  ]
}