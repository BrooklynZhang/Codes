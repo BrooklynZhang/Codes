{
  "nbformat": 4,
  "nbformat_minor": 0,
  "metadata": {
    "colab": {
      "name": "nlp_extra.ipynb",
      "provenance": [],
      "authorship_tag": "ABX9TyPaP7+LZljQgldygoAvoHN7",
      "include_colab_link": true
    },
    "kernelspec": {
      "name": "python3",
      "display_name": "Python 3"
    },
    "accelerator": "GPU"
  },
  "cells": [
    {
      "cell_type": "markdown",
      "metadata": {
        "id": "view-in-github",
        "colab_type": "text"
      },
      "source": [
        "<a href=\"https://colab.research.google.com/github/BrooklynZhang/Personal/blob/master/nlp_extra.ipynb\" target=\"_parent\"><img src=\"https://colab.research.google.com/assets/colab-badge.svg\" alt=\"Open In Colab\"/></a>"
      ]
    },
    {
      "cell_type": "code",
      "metadata": {
        "id": "bI9YBEIIx6jO",
        "colab_type": "code",
        "colab": {}
      },
      "source": [
        "!pip install fast-bert\n",
        "\n",
        "!git clone https://github.com/NVIDIA/apex\n",
        "%cd apex\n",
        "!pip install -v --no-cache-dir --global-option=\"--cpp_ext\" --global-option=\"--cuda_ext\" ./"
      ],
      "execution_count": 0,
      "outputs": []
    },
    {
      "cell_type": "markdown",
      "metadata": {
        "id": "tH-HNkJ7ys3g",
        "colab_type": "text"
      },
      "source": [
        ""
      ]
    },
    {
      "cell_type": "code",
      "metadata": {
        "id": "aWKH69m9yAqP",
        "colab_type": "code",
        "colab": {}
      },
      "source": [
        "!git clone https://github.com/BrooklynZhang/Personal.git"
      ],
      "execution_count": 0,
      "outputs": []
    },
    {
      "cell_type": "code",
      "metadata": {
        "id": "Uk7YDWwmyE6O",
        "colab_type": "code",
        "colab": {}
      },
      "source": [
        "from fast_bert.data_cls import BertDataBunch\n",
        "PATH = 'Personal/NLP_Data/'\n",
        "OUTPUT = '/content/'\n",
        "\n",
        "BERT_PRETRAINED_MODEL = 'bert-base-uncased'\n",
        "\n",
        "labels = ['anger', 'anticipation','disgust','fear','joy','love','optimism','pessimism','sadness','surprise','trust','neutral']\n",
        "databunch = BertDataBunch(PATH, \n",
        "                          PATH,\n",
        "                          tokenizer=BERT_PRETRAINED_MODEL,\n",
        "                          train_file='train.csv',\n",
        "                          label_file='labels.csv',\n",
        "                          val_file='valid.csv',\n",
        "                          text_col='text',\n",
        "                          label_col=labels,\n",
        "                          batch_size_per_gpu=16,\n",
        "                          max_seq_length=512,\n",
        "                          multi_gpu=False,\n",
        "                          multi_label=True,\n",
        "                          model_type='bert')\n",
        "\n",
        "from fast_bert.learner_cls import BertLearner\n",
        "from fast_bert.metrics import accuracy\n",
        "import logging\n",
        "\n",
        "logger = logging.getLogger()\n",
        "device_cuda = torch.device('cuda')\n",
        "metrics = [{'name': 'accuracy', 'function': accuracy}]\n",
        "\n",
        "learner = BertLearner.from_pretrained_model(databunch,\n",
        "                                            pretrained_path=BERT_PRETRAINED_MODEL,\n",
        "                                            metrics=metrics,\n",
        "                                            device=device_cuda,\n",
        "                                            logger=logger,\n",
        "                                            output_dir=OUTPUT,\n",
        "                                            finetuned_wgts_path=None,\n",
        "                                            warmup_steps=200,\n",
        "                                            multi_gpu=False,\n",
        "                                            is_fp16=False,\n",
        "                                            multi_label=True,\n",
        "                                            logging_steps=10)\n",
        "\n",
        "learner.fit(epochs=4,\n",
        "            lr=2e-3,\n",
        "            schedule_type=\"warmup_cosine_hard_restarts\",\n",
        "            optimizer_type=\"lamb\")\n",
        "\n",
        "learner.save_model()"
      ],
      "execution_count": 0,
      "outputs": []
    }
  ]
}